{
  "cells": [
    {
      "cell_type": "markdown",
      "id": "4a1aae78-88a6-4133-b905-7e46c8e3772f",
      "metadata": {},
      "source": [
        "# Quick Start\n",
        "\n",
        "# 快速入门\n",
        "\n",
        "In this comprehensive quick start, we will build a support chatbot in LangGraph that can:\n",
        "\n",
        "在这个全面的快速入门指南中，我们将构建一个支持聊天机器人，使用LangGraph，它可以：\n",
        "\n",
        "- Answer common questions by searching the web\n",
        "\n",
        "- 通过搜索网络回答常见问题\n",
        "- Maintain conversation state across calls\n",
        "\n",
        "- 在多次通话中保持对话状态\n",
        "- Route complex queries to a human for review\n",
        "\n",
        "将复杂查询转交给人工审查。\n",
        "- Use custom state to control its behavior\n",
        "\n",
        "- 使用自定义状态来控制其行为\n",
        "- Rewind and explore alternative conversation paths\n",
        "\n",
        "- 倒回并探索替代对话路径\n",
        "\n",
        "We'll start with a basic chatbot and progressively add more sophisticated capabilities, introducing key LangGraph concepts along the way.\n",
        "\n",
        "我们将从一个基本的聊天机器人开始，逐步添加更复杂的功能，并在此过程中介绍关键的 LangGraph 概念。\n",
        "\n",
        "## Setup\n",
        "\n",
        "## 设置\n",
        "\n",
        "First, install the required packages:",
        "\n",
        "首先，安装所需的包：\n"
      ]
    },
    {
      "cell_type": "code",
      "execution_count": 1,
      "id": "6f11d631-8679-4f28-822f-cdf1f2ddc21c",
      "metadata": {},
      "outputs": [],
      "source": [
        "%%capture --no-stderr\n",
        "%pip install -U langgraph langsmith langchain_anthropic"
      ]
    },
    {
      "cell_type": "markdown",
      "id": "a6d1e870-1bc0-4d44-86c0-96681ccf6113",
      "metadata": {},
      "source": [
        "Next, set your API keys:",
        "\n",
        "接下来，设置您的 API 密钥：\n"
      ]
    },
    {
      "cell_type": "code",
      "execution_count": 2,
      "id": "705d4020-6ee8-44cc-b1a5-8c34e7172fc7",
      "metadata": {},
      "outputs": [],
      "source": [
        "import getpass\n",
        "import os\n",
        "\n",
        "\n",
        "def _set_env(var: str):\n",
        "    if not os.environ.get(var):\n",
        "        os.environ[var] = getpass.getpass(f\"{var}: \")\n",
        "\n",
        "\n",
        "_set_env(\"ANTHROPIC_API_KEY\")"
      ]
    },
    {
      "cell_type": "markdown",
      "id": "a98c72cf-33f9-4a37-9634-6c93a7c28815",
      "metadata": {},
      "source": [
        "<div class=\"admonition tip\">\n",
        "\n",
        "<div class=\"admonition tip\">  \n（提示）  \n</div>  \n",
        "    <p class=\"admonition-title\">Set up <a href=\"https://smith.langchain.com\">LangSmith</a> for LangGraph development</p>\n",
        "\n",
        "<p class=\"admonition-title\">为 LangGraph 开发设置 <a href=\"https://smith.langchain.com\">LangSmith</a></p>\n",
        "    <p style=\"padding-top: 5px;\">\n",
        "\n",
        "<p style=\"padding-top: 5px;\">\n",
        "        Sign up for LangSmith to quickly spot issues and improve the performance of your LangGraph projects. LangSmith lets you use trace data to debug, test, and monitor your LLM apps built with LangGraph — read more about how to get started <a href=\"https://docs.smith.langchain.com\">here</a>. \n",
        "\n",
        "注册 LangSmith，快速发现问题并提升您的 LangGraph 项目的性能。LangSmith 使您能够使用追踪数据来调试、测试和监控使用 LangGraph 构建的 LLM 应用程序——有关如何开始的更多信息，请点击 <a href=\"https://docs.smith.langchain.com\">这里</a>。\n",
        "    </p>\n",
        "\n",
        "您的文本似乎只包含一个HTML标签，内容为空。如果您有其他文本需要翻译，请提供相关内容。\n",
        "</div>",
        "\n",
        "看起来您提供的内容是HTML代码的一部分，包含一个结束标签 `</div>`。这个标签在中文中可以翻译为“结束 div 标签”。如果您需要翻译其他具体的文本，请提供更多内容。\n"
      ]
    },
    {
      "attachments": {},
      "cell_type": "markdown",
      "id": "9c374e41-f9b7-439e-a520-6d8c853c5220",
      "metadata": {},
      "source": [
        "## Part 1: Build a Basic Chatbot\n",
        "\n",
        "## 第1部分：构建一个基础聊天机器人\n",
        "\n",
        "We'll first create a simple chatbot using LangGraph. This chatbot will respond directly to user messages. Though simple, it will illustrate the core concepts of building with LangGraph. By the end of this section, you will have a built rudimentary chatbot.\n",
        "\n",
        "我们将首先使用 LangGraph 创建一个简单的聊天机器人。这个聊天机器人将直接对用户消息作出回应。虽然简单，但它将展示使用 LangGraph 构建的核心概念。在本节结束时，您将构建一个基本的聊天机器人。\n",
        "\n",
        "Start by creating a `StateGraph`. A `StateGraph` object defines the structure of our chatbot as a \"state machine\". We'll add `nodes` to represent the llm and functions our chatbot can call and `edges` to specify how the bot should transition between these functions.",
        "\n",
        "首先创建一个 `StateGraph`。`StateGraph` 对象定义了我们聊天机器人的结构，作为一个“状态机”。我们将添加 `nodes` 来表示聊天机器人可以调用的语言模型（llm）和函数，以及添加 `edges` 来指定机器人在这些函数之间应该如何转换。\n"
      ]
    },
    {
      "cell_type": "code",
      "execution_count": 3,
      "id": "e58df974-7579-4f25-9d91-66389b94eba2",
      "metadata": {},
      "outputs": [],
      "source": [
        "from typing import Annotated\n",
        "\n",
        "from typing_extensions import TypedDict\n",
        "\n",
        "from langgraph.graph import StateGraph, START, END\n",
        "from langgraph.graph.message import add_messages\n",
        "\n",
        "\n",
        "class State(TypedDict):\n",
        "    # Messages have the type \"list\". The `add_messages` function\n",
        "    # in the annotation defines how this state key should be updated\n",
        "    # (in this case, it appends messages to the list, rather than overwriting them)\n",
        "    messages: Annotated[list, add_messages]\n",
        "\n",
        "\n",
        "graph_builder = StateGraph(State)"
      ]
    },
    {
      "cell_type": "markdown",
      "id": "31c755cd-8994-4867-bdff-96a55d7beae7",
      "metadata": {},
      "source": [
        "<div class=\"admonition tip\">\n",
        "\n",
        "<div class=\"admonition tip\">  \n\n这段文本的中文翻译为：\n\n<div class=\"admonition tip\">\n",
        "    <p class=\"admonition-title\">Note</p>\n",
        "\n",
        "<p class=\"admonition-title\">注意</p>\n",
        "    <p>\n",
        "\n",
        "当然可以！但您没有提供要翻译的文本，请提供具体内容，我将为您进行翻译。\n",
        "    The first thing you do when you define a graph is define the <code>State</code> of the graph. The <code>State</code> consists of the schema of the graph as well as reducer functions which specify how to apply updates to the state. In our example <code>State</code> is a <code>TypedDict</code> with a single key: <code>messages</code>. The <code>messages</code> key is annotated with the <a href=\"https://langchain-ai.github.io/langgraph/reference/graphs/?h=add+messages#add_messages\"><code>add_messages</code></a> reducer function, which tells LangGraph to append new messages to the existing list, rather than overwriting it. State keys without an annotation will be overwritten by each update, storing the most recent value. Check out <a href=\"https://langchain-ai.github.io/langgraph/reference/graphs/?h=add+messages#add_messages\">this conceptual guide</a> to learn more about state, reducers and other low-level concepts.\n",
        "\n",
        "定义图时你要做的第一件事是定义图的 <code>State</code>。<code>State</code> 包含图的架构，以及指定如何将更新应用于状态的 reducer 函数。在我们的示例中，<code>State</code> 是一个具有单个键 <code>messages</code> 的 <code>TypedDict</code>。<code>messages</code> 键使用 <a href=\"https://langchain-ai.github.io/langgraph/reference/graphs/?h=add+messages#add_messages\"><code>add_messages</code></a> reducer 函数进行注释，这告诉 LangGraph 将新消息附加到现有列表中，而不是覆盖它。没有注释的状态键将在每次更新时被覆盖，只存储最新值。请查看 <a href=\"https://langchain-ai.github.io/langgraph/reference/graphs/?h=add+messages#add_messages\">这个概念指南</a> 了解有关状态、reducer 及其他低级概念的更多信息。\n",
        "    </p>\n",
        "\n",
        "这段文本似乎是一个HTML标签，表示段落结束。它本身没有具体的含义。如果你需要翻译其他内容，请提供更完整的文本。\n",
        "</div>",
        "\n",
        "看起来您提供的文本是一个 HTML 标签，具体是 `</div>`，这个标签通常表示一个“div”元素的结束。用中文来讲，它可以简单理解为“结束一个容器”。如果您有其他文本需要翻译，请提供更多信息！\n"
      ]
    },
    {
      "cell_type": "markdown",
      "id": "4137feed-746e-4c72-a34a-f7a699ad5dcf",
      "metadata": {},
      "source": [
        "So now our graph knows two things:\n",
        "\n",
        "所以现在我们的图知道了两件事：\n",
        "\n",
        "1. Every `node` we define will receive the current `State` as input and return a value that updates that state.\n",
        "\n",
        "我们定义的每个 `node` 都将接收当前的 `State` 作为输入，并返回一个更新该状态的值。\n",
        "2. `messages` will be _appended_ to the current list, rather than directly overwritten. This is communicated via the prebuilt [`add_messages`](https://langchain-ai.github.io/langgraph/reference/graphs/?h=add+messages#add_messages) function in the `Annotated` syntax.\n",
        "\n",
        "2. `messages` 将被 _附加_ 到当前的列表中，而不是直接覆盖。这一点通过预构建的 [`add_messages`](https://langchain-ai.github.io/langgraph/reference/graphs/?h=add+messages#add_messages) 函数在 `Annotated` 语法中进行了说明。\n",
        "\n",
        "Next, add a \"`chatbot`\" node. Nodes represent units of work. They are typically regular python functions.",
        "\n",
        "接下来，添加一个 \"`chatbot`\" 节点。节点代表工作单元，通常是常规的 Python 函数。\n"
      ]
    },
    {
      "cell_type": "code",
      "execution_count": 4,
      "id": "bc8c9137-8261-42ea-8e83-3590981d23e2",
      "metadata": {},
      "outputs": [
        {
          "data": {
            "text/plain": [
              "<langgraph.graph.state.StateGraph at 0x7ff654719fd0>"
            ]
          },
          "execution_count": 4,
          "metadata": {},
          "output_type": "execute_result"
        }
      ],
      "source": [
        "from langchain_anthropic import ChatAnthropic\n",
        "\n",
        "llm = ChatAnthropic(model=\"claude-3-5-sonnet-20240620\")\n",
        "\n",
        "\n",
        "def chatbot(state: State):\n",
        "    return {\"messages\": [llm.invoke(state[\"messages\"])]}\n",
        "\n",
        "\n",
        "# The first argument is the unique node name\n",
        "# The second argument is the function or object that will be called whenever\n",
        "# the node is used.\n",
        "graph_builder.add_node(\"chatbot\", chatbot)"
      ]
    },
    {
      "cell_type": "markdown",
      "id": "b6c1dcd9-fb86-4649-81b4-ff6ce20a2e46",
      "metadata": {},
      "source": [
        "**Notice** how the `chatbot` node function takes the current `State` as input and returns a dictionary containing an updated `messages` list under the key \"messages\". This is the basic pattern for all LangGraph node functions.\n",
        "\n",
        "**注意** `chatbot` 节点函数如何将当前的 `State` 作为输入，并返回一个字典，其中包含一个更新后的 `messages` 列表，键为 \"messages\"。这是所有 LangGraph 节点函数的基本模式。\n",
        "\n",
        "The `add_messages` function in our `State` will append the llm's response messages to whatever messages are already in the state.\n",
        "\n",
        "`State` 中的 `add_messages` 函数将把 llm 的响应消息附加到状态中已有的消息上。\n",
        "\n",
        "Next, add an `entry` point. This tells our graph **where to start its work** each time we run it.",
        "\n",
        "接下来，添加一个“入口”点。这告诉我们的图**每次运行时从哪里开始工作**。\n"
      ]
    },
    {
      "cell_type": "code",
      "execution_count": 5,
      "id": "e331e10d-ebcf-4144-9bd3-999b4d656dd3",
      "metadata": {},
      "outputs": [
        {
          "data": {
            "text/plain": [
              "<langgraph.graph.state.StateGraph at 0x7ff654719fd0>"
            ]
          },
          "execution_count": 5,
          "metadata": {},
          "output_type": "execute_result"
        }
      ],
      "source": [
        "graph_builder.add_edge(START, \"chatbot\")"
      ]
    },
    {
      "cell_type": "markdown",
      "id": "0499c318-d1e6-46fa-a652-8f9e65313355",
      "metadata": {},
      "source": [
        "Similarly, set a `finish` point. This instructs the graph **\"any time this node is run, you can exit.\"**",
        "\n",
        "同样，设定一个 `finish` 点。这指示图 **“每当这个节点被执行时，你可以退出。”**\n"
      ]
    },
    {
      "cell_type": "code",
      "execution_count": 6,
      "id": "075f0929-3591-4852-b2d3-eaadde40662d",
      "metadata": {},
      "outputs": [
        {
          "data": {
            "text/plain": [
              "<langgraph.graph.state.StateGraph at 0x7ff654719fd0>"
            ]
          },
          "execution_count": 6,
          "metadata": {},
          "output_type": "execute_result"
        }
      ],
      "source": [
        "graph_builder.add_edge(\"chatbot\", END)"
      ]
    },
    {
      "cell_type": "markdown",
      "id": "65a9b88c-2c53-4d95-8eb1-d544a8946f65",
      "metadata": {},
      "source": [
        "Finally, we'll want to be able to run our graph. To do so, call \"`compile()`\" on the graph builder. This creates a \"`CompiledGraph`\" we can use invoke on our state.",
        "\n",
        "最后，我们需要能够运行我们的图。为此，调用图构建器上的 \"`compile()`\"。这将创建一个 \"`CompiledGraph`\"，我们可以在我们的状态上调用它。\n"
      ]
    },
    {
      "cell_type": "code",
      "execution_count": 7,
      "id": "0bb67a01-cf5c-4625-8c07-6e8c0af50fca",
      "metadata": {},
      "outputs": [],
      "source": [
        "graph = graph_builder.compile()"
      ]
    },
    {
      "cell_type": "markdown",
      "id": "0c39407b-d6f6-48a4-b1f6-31fc7f88b275",
      "metadata": {},
      "source": [
        "You can visualize the graph using the `get_graph` method and one of the \"draw\" methods, like `draw_ascii` or `draw_png`. The `draw` methods each require additional dependencies.",
        "\n",
        "您可以使用 `get_graph` 方法和其中一种 “绘图” 方法（如 `draw_ascii` 或 `draw_png`）来可视化图形。`draw` 方法各自需要额外的依赖。\n"
      ]
    },
    {
      "cell_type": "code",
      "execution_count": 10,
      "id": "32e4f36e-72ce-4ade-bd7e-94880e0d456b",
      "metadata": {},
      "outputs": [
        {
          "data": {
            "image/jpeg": "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",
            "text/plain": [
              "<IPython.core.display.Image object>"
            ]
          },
          "metadata": {},
          "output_type": "display_data"
        }
      ],
      "source": [
        "from IPython.display import Image, display\n",
        "\n",
        "try:\n",
        "    display(Image(graph.get_graph().draw_mermaid_png()))\n",
        "except Exception:\n",
        "    # This requires some extra dependencies and is optional\n",
        "    pass"
      ]
    },
    {
      "cell_type": "markdown",
      "id": "a98097a3-a126-4081-b21e-697ec1185fff",
      "metadata": {},
      "source": [
        "Now let's run the chatbot! \n",
        "\n",
        "现在让我们启动聊天机器人！\n",
        "\n",
        "**Tip:** You can exit the chat loop at any time by typing \"quit\", \"exit\", or \"q\".",
        "\n",
        "**提示：** 您可以随时通过输入“quit”、“exit”或“q”退出聊天循环。\n"
      ]
    },
    {
      "cell_type": "code",
      "execution_count": 11,
      "id": "6a385b06-8d34-4a2d-aded-1cf4bb0ca590",
      "metadata": {},
      "outputs": [
        {
          "name": "stdout",
          "output_type": "stream",
          "text": [
            "Goodbye!\n"
          ]
        }
      ],
      "source": [
        "def stream_graph_updates(user_input: str):\n",
        "    for event in graph.stream({\"messages\": [(\"user\", user_input)]}):\n",
        "        for value in event.values():\n",
        "            print(\"Assistant:\", value[\"messages\"][-1].content)\n",
        "\n",
        "\n",
        "while True:\n",
        "    try:\n",
        "        user_input = input(\"User: \")\n",
        "        if user_input.lower() in [\"quit\", \"exit\", \"q\"]:\n",
        "            print(\"Goodbye!\")\n",
        "            break\n",
        "\n",
        "        stream_graph_updates(user_input)\n",
        "    except:\n",
        "        # fallback if input() is not available\n",
        "        user_input = \"What do you know about LangGraph?\"\n",
        "        print(\"User: \" + user_input)\n",
        "        stream_graph_updates(user_input)\n",
        "        break"
      ]
    },
    {
      "cell_type": "markdown",
      "id": "98e1cdb5-869a-41ea-9dab-e28cfc524499",
      "metadata": {},
      "source": [
        "**Congratulations!** You've built your first chatbot using LangGraph. This bot can engage in basic conversation by taking user input and generating responses using an LLM. You can inspect a [LangSmith Trace](https://smith.langchain.com/public/7527e308-9502-4894-b347-f34385740d5a/r) for the call above at the provided link.\n",
        "\n",
        "**恭喜你！** 你已经使用 LangGraph 构建了你的第一个聊天机器人。这个机器人可以通过接受用户输入并使用 LLM 生成回复来进行基本对话。你可以在提供的链接中查看上面的 [LangSmith Trace](https://smith.langchain.com/public/7527e308-9502-4894-b347-f34385740d5a/r)。\n",
        "\n",
        "However, you may have noticed that the bot's knowledge is limited to what's in its training data. In the next part, we'll add a web search tool to expand the bot's knowledge and make it more capable.\n",
        "\n",
        "然而，您可能已经注意到，这个机器人的知识仅限于其训练数据中的内容。在下一部分，我们将添加一个网页搜索工具，以扩展机器人的知识，使其更具能力。\n",
        "\n",
        "Below is the full code for this section for your reference:\n",
        "\n",
        "以下是这一部分的完整代码供您参考：\n",
        "\n",
        "<details>\n",
        "\n",
        "<details>\n",
        "<summary>Full Code</summary>\n",
        "\n",
        "<summary>完整代码</summary>\n",
        "    <pre>\n",
        "\n",
        "当然可以！不过你没有提供需要翻译的文本内容。请把需要翻译的文本发给我，我会帮你翻译成中文。\n",
        "        \n",
        "```python\n",
        "\n",
        "请提供您希望翻译的文本内容。\n",
        "from typing import Annotated\n",
        "\n",
        "从类型提示导入：注解\n",
        "\n",
        "from langchain_anthropic import ChatAnthropic\n",
        "\n",
        "来自 langchain_anthropic 的 ChatAnthropic\n",
        "from typing_extensions import TypedDict\n",
        "\n",
        "从 typing_extensions 导入 TypedDict\n",
        "\n",
        "from langgraph.graph import StateGraph\n",
        "\n",
        "来自 langgraph.graph 的 StateGraph\n",
        "from langgraph.graph.message import add_messages\n",
        "\n",
        "来自 langgraph.graph.message 的 add_messages\n",
        "\n",
        "\n",
        "class State(TypedDict):\n",
        "\n",
        "类 State(TypedDict):\n",
        "    messages: Annotated[list, add_messages]\n",
        "\n",
        "消息：注释[列表，添加消息]\n",
        "\n",
        "\n",
        "graph_builder = StateGraph(State)\n",
        "\n",
        "图形构建器 = 状态图(State)\n",
        "\n",
        "\n",
        "llm = ChatAnthropic(model=\"claude-3-5-sonnet-20240620\")\n",
        "\n",
        "llm = ChatAnthropic(model=\"claude-3-5-sonnet-20240620\")\n",
        "\n",
        "\n",
        "def chatbot(state: State):\n",
        "\n",
        "```python\ndef 聊天机器人(状态: 状态):\n```\n",
        "    return {\"messages\": [llm.invoke(state[\"messages\"])]}\n",
        "\n",
        "返回 {\"messages\": [llm.invoke(state[\"messages\"])]}\n",
        "\n",
        "\n",
        "# The first argument is the unique node name\n",
        "\n",
        "第一个参数是唯一的节点名称。\n",
        "# The second argument is the function or object that will be called whenever\n",
        "\n",
        "第二个参数是将在每次调用时使用的函数或对象。\n",
        "# the node is used.\n",
        "\n",
        "# 节点正在被使用。\n",
        "graph_builder.add_node(\"chatbot\", chatbot)\n",
        "\n",
        "graph_builder.add_node(\"聊天机器人\", chatbot)\n",
        "graph_builder.set_entry_point(\"chatbot\")\n",
        "\n",
        "graph_builder.set_entry_point(\"chatbot\") 的中文翻译是：图表构建器设置入口点为“聊天机器人”。\n",
        "graph_builder.set_finish_point(\"chatbot\")\n",
        "\n",
        "graph_builder.set_finish_point(\"聊天机器人\")\n",
        "graph = graph_builder.compile()\n",
        "\n",
        "图形 = 图形构建器编译()\n",
        "```\n",
        "\n",
        "当然，请提供您希望翻译的文本。\n",
        "\n",
        "</pre>\n",
        "\n",
        "看起来你提供的文本是一个 HTML 标签，不包含可翻译的内容。如果你有其他具体文本或者内容需要翻译，请提供，我会很乐意帮忙！\n",
        "</details>",
        "\n",
        "抱歉，您提供的文本 \"<\\/details>\" 是一个HTML标签，翻译成中文是“细节”或“详细信息”。如果您需要翻译更多内容，请提供完整的文本。\n"
      ]
    }
  ]
}