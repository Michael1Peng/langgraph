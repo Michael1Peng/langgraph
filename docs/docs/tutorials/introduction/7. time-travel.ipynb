{
 "cells": [
  {
   "cell_type": "markdown",
   "id": "05283db2-2f26-4800-8eda-78a4468a3d8f",
   "metadata": {},
   "source": [
    "## Part 7: Time Travel\n",
    "\n",
    "In a typical chat bot workflow, the user interacts with the bot 1 or more times to accomplish a task. In the previous sections, we saw how to add memory and a human-in-the-loop to be able to checkpoint our graph state and manually override the state to control future responses.\n",
    "\n",
    "But what if you want to let your user start from a previous response and \"branch off\" to explore a separate outcome? Or what if you want users to be able to \"rewind\" your assistant's work to fix some mistakes or try a different strategy (common in applications like autonomous software engineers)?\n",
    "\n",
    "You can create both of these experiences and more using LangGraph's built-in \"time travel\" functionality. \n",
    "\n",
    "In this section, you will \"rewind\" your graph by fetching a checkpoint using the graph's `get_state_history` method. You can then resume execution at this previous point in time.\n",
    "\n",
    "First, recall our chatbot graph. We don't need to make **any** changes from before:"
   ]
  },
  {
   "cell_type": "code",
   "execution_count": 59,
   "id": "bb8a02de-a21b-4ef6-a714-7d6e44435e3a",
   "metadata": {},
   "outputs": [],
   "source": [
    "from typing import Annotated, Literal\n",
    "\n",
    "from langchain_anthropic import ChatAnthropic\n",
    "from langchain_community.tools.tavily_search import TavilySearchResults\n",
    "from langchain_core.messages import AIMessage, ToolMessage\n",
    "\n",
    "# NOTE: you must use langchain-core >= 0.3 with Pydantic v2\n",
    "from pydantic import BaseModel\n",
    "from typing_extensions import TypedDict\n",
    "\n",
    "from langgraph.checkpoint.memory import MemorySaver\n",
    "from langgraph.graph import StateGraph, START\n",
    "from langgraph.graph.message import add_messages\n",
    "from langgraph.prebuilt import ToolNode, tools_condition\n",
    "\n",
    "\n",
    "class State(TypedDict):\n",
    "    messages: Annotated[list, add_messages]\n",
    "    # This flag is new\n",
    "    ask_human: bool\n",
    "\n",
    "\n",
    "class RequestAssistance(BaseModel):\n",
    "    \"\"\"Escalate the conversation to an expert. Use this if you are unable to assist directly or if the user requires support beyond your permissions.\n",
    "\n",
    "    To use this function, relay the user's 'request' so the expert can provide the right guidance.\n",
    "    \"\"\"\n",
    "\n",
    "    request: str\n",
    "\n",
    "\n",
    "tool = TavilySearchResults(max_results=2)\n",
    "tools = [tool]\n",
    "llm = ChatAnthropic(model=\"claude-3-5-sonnet-20240620\")\n",
    "# We can bind the llm to a tool definition, a pydantic model, or a json schema\n",
    "llm_with_tools = llm.bind_tools(tools + [RequestAssistance])\n",
    "\n",
    "\n",
    "def chatbot(state: State):\n",
    "    response = llm_with_tools.invoke(state[\"messages\"])\n",
    "    ask_human = False\n",
    "    if (\n",
    "        response.tool_calls\n",
    "        and response.tool_calls[0][\"name\"] == RequestAssistance.__name__\n",
    "    ):\n",
    "        ask_human = True\n",
    "    return {\"messages\": [response], \"ask_human\": ask_human}\n",
    "\n",
    "\n",
    "graph_builder = StateGraph(State)\n",
    "\n",
    "graph_builder.add_node(\"chatbot\", chatbot)\n",
    "graph_builder.add_node(\"tools\", ToolNode(tools=[tool]))\n",
    "\n",
    "\n",
    "def create_response(response: str, ai_message: AIMessage):\n",
    "    return ToolMessage(\n",
    "        content=response,\n",
    "        tool_call_id=ai_message.tool_calls[0][\"id\"],\n",
    "    )\n",
    "\n",
    "\n",
    "def human_node(state: State):\n",
    "    new_messages = []\n",
    "    if not isinstance(state[\"messages\"][-1], ToolMessage):\n",
    "        # Typically, the user will have updated the state during the interrupt.\n",
    "        # If they choose not to, we will include a placeholder ToolMessage to\n",
    "        # let the LLM continue.\n",
    "        new_messages.append(\n",
    "            create_response(\"No response from human.\", state[\"messages\"][-1])\n",
    "        )\n",
    "    return {\n",
    "        # Append the new messages\n",
    "        \"messages\": new_messages,\n",
    "        # Unset the flag\n",
    "        \"ask_human\": False,\n",
    "    }\n",
    "\n",
    "\n",
    "graph_builder.add_node(\"human\", human_node)\n",
    "\n",
    "\n",
    "def select_next_node(state: State):\n",
    "    if state[\"ask_human\"]:\n",
    "        return \"human\"\n",
    "    # Otherwise, we can route as before\n",
    "    return tools_condition(state)\n",
    "\n",
    "\n",
    "graph_builder.add_conditional_edges(\n",
    "    \"chatbot\",\n",
    "    select_next_node,\n",
    "    {\"human\": \"human\", \"tools\": \"tools\", END: END},\n",
    ")\n",
    "graph_builder.add_edge(\"tools\", \"chatbot\")\n",
    "graph_builder.add_edge(\"human\", \"chatbot\")\n",
    "graph_builder.add_edge(START, \"chatbot\")\n",
    "memory = MemorySaver()\n",
    "graph = graph_builder.compile(\n",
    "    checkpointer=memory,\n",
    "    interrupt_before=[\"human\"],\n",
    ")"
   ]
  },
  {
   "cell_type": "code",
   "execution_count": 60,
   "id": "a7debb4a-2a3a-40b9-a48c-7052ec2c2726",
   "metadata": {},
   "outputs": [
    {
     "data": {
      "image/jpeg": "[encoded data removed]",
      "text/plain": [
       "<IPython.core.display.Image object>"
      ]
     },
     "metadata": {},
     "output_type": "display_data"
    }
   ],
   "source": [
    "from IPython.display import Image, display\n",
    "\n",
    "try:\n",
    "    display(Image(graph.get_graph().draw_mermaid_png()))\n",
    "except Exception:\n",
    "    # This requires some extra dependencies and is optional\n",
    "    pass"
   ]
  },
  {
   "cell_type": "markdown",
   "id": "5414c482-215e-4cc0-9eef-4a8722d2f468",
   "metadata": {},
   "source": [
    "Let's have our graph take a couple steps. Every step will be checkpointed in its state history:"
   ]
  },
  {
   "cell_type": "code",
   "execution_count": 61,
   "id": "69071b02-c011-4b7f-90b1-8e89e032322d",
   "metadata": {},
   "outputs": [
    {
     "name": "stdout",
     "output_type": "stream",
     "text": [
      "================================\u001b[1m Human Message \u001b[0m=================================\n",
      "\n",
      "I'm learning LangGraph. Could you do some research on it for me?\n",
      "==================================\u001b[1m Ai Message \u001b[0m==================================\n",
      "\n",
      "[{'text': \"Certainly! I'd be happy to research LangGraph for you. To get the most up-to-date and comprehensive information, I'll use the Tavily search function to find relevant details about LangGraph. Let me do that for you now.\", 'type': 'text'}, {'id': 'toolu_01Ah6rDjtevMRBVP4AJd5VoL', 'input': {'query': 'LangGraph framework for language models'}, 'name': 'tavily_search_results_json', 'type': 'tool_use'}]\n",
      "Tool Calls:\n",
      "  tavily_search_results_json (toolu_01Ah6rDjtevMRBVP4AJd5VoL)\n",
      " Call ID: toolu_01Ah6rDjtevMRBVP4AJd5VoL\n",
      "  Args:\n",
      "    query: LangGraph framework for language models\n",
      "=================================\u001b[1m Tool Message \u001b[0m=================================\n",
      "Name: tavily_search_results_json\n",
      "\n",
      "[{\"url\": \"https://www.datacamp.com/tutorial/langgraph-tutorial\", \"content\": \"LangGraph provides a framework for defining, coordinating, and executing multiple LLM agents (or chains) in a structured manner. ... LangChain is a framework for including AI from large language models inside data pipelines and applications. This tutorial provides an overview of what you can do with LangChain, including the problems that\"}, {\"url\": \"https://medium.com/@cplog/introduction-to-langgraph-a-beginners-guide-14f9be027141\", \"content\": \"LangGraph is a powerful tool for building stateful, multi-actor applications with Large Language Models (LLMs). It extends the LangChain library, allowing you to coordinate multiple chains (or\"}]\n",
      "==================================\u001b[1m Ai Message \u001b[0m==================================\n",
      "\n",
      "Thank you for your patience. I've found some informative resources about LangGraph. Let me summarize the key points for you:\n",
      "\n",
      "1. What is LangGraph?\n",
      "   LangGraph is a framework that extends the capabilities of LangChain, which is already a popular library for working with large language models (LLMs). \n",
      "\n",
      "2. Main purpose:\n",
      "   It's designed for building stateful, multi-actor applications with LLMs. This means it allows you to create more complex and interactive AI systems.\n",
      "\n",
      "3. Key features:\n",
      "   - Provides a structure for defining, coordinating, and executing multiple LLM agents or chains.\n",
      "   - Allows for the creation of stateful applications, meaning the system can remember and use information from previous interactions.\n",
      "   - Enables the coordination of multiple chains or agents, allowing for more sophisticated AI behaviors.\n",
      "\n",
      "4. Relationship to LangChain:\n",
      "   LangGraph builds upon LangChain, which is a framework for incorporating AI from large language models into data pipelines and applications.\n",
      "\n",
      "5. Use cases:\n",
      "   While the search results don't provide specific examples, LangGraph would be useful for creating complex AI systems that require multiple agents to work together, maintain state, and handle more intricate workflows.\n",
      "\n",
      "6. Learning resources:\n",
      "   The search results mention a tutorial on DataCamp and an introductory guide on Medium, which could be good starting points for learning more about LangGraph.\n",
      "\n",
      "If you're interested in learning LangGraph, it would be beneficial to:\n",
      "1. Familiarize yourself with LangChain first, if you haven't already.\n",
      "2. Look into the DataCamp tutorial mentioned in the search results.\n",
      "3. Read the beginner's guide on Medium for an introduction to LangGraph.\n",
      "\n",
      "Would you like more information on any specific aspect of LangGraph, or do you have any questions about what I've summarized?\n"
     ]
    }
   ],
   "source": [
    "config = {\"configurable\": {\"thread_id\": \"1\"}}\n",
    "events = graph.stream(\n",
    "    {\n",
    "        \"messages\": [\n",
    "            (\"user\", \"I'm learning LangGraph. Could you do some research on it for me?\")\n",
    "        ]\n",
    "    },\n",
    "    config,\n",
    "    stream_mode=\"values\",\n",
    ")\n",
    "for event in events:\n",
    "    if \"messages\" in event:\n",
    "        event[\"messages\"][-1].pretty_print()"
   ]
  },
  {
   "cell_type": "code",
   "execution_count": 62,
   "id": "acbec099-e5d2-497f-929e-c548d7bcbf77",
   "metadata": {},
   "outputs": [
    {
     "name": "stdout",
     "output_type": "stream",
     "text": [
      "================================\u001b[1m Human Message \u001b[0m=================================\n",
      "\n",
      "Ya that's helpful. Maybe I'll build an autonomous agent with it!\n",
      "==================================\u001b[1m Ai Message \u001b[0m==================================\n",
      "\n",
      "[{'text': \"That's an exciting idea! Building an autonomous agent with LangGraph could be a great way to explore its capabilities and learn about advanced AI applications. Given your interest, let me provide some additional insights and suggestions for your project.\", 'type': 'text'}, {'id': 'toolu_0127PnnWqn6E3b6ewT6ob6dw', 'input': {'query': 'building autonomous agents with LangGraph'}, 'name': 'tavily_search_results_json', 'type': 'tool_use'}]\n",
      "Tool Calls:\n",
      "  tavily_search_results_json (toolu_0127PnnWqn6E3b6ewT6ob6dw)\n",
      " Call ID: toolu_0127PnnWqn6E3b6ewT6ob6dw\n",
      "  Args:\n",
      "    query: building autonomous agents with LangGraph\n",
      "=================================\u001b[1m Tool Message \u001b[0m=================================\n",
      "Name: tavily_search_results_json\n",
      "\n",
      "[{\"url\": \"https://www.oreilly.com/library/view/building-autonomous-ai/9781836643159/\", \"content\": \"Title: Building Autonomous AI Agents with LangGraph. Author (s): Paulo Dichone. Release date: August 2024. Publisher (s): Packt Publishing. ISBN: 9781836643159. Embark on a detailed journey into AI agent development with our comprehensive course. We begin with an introduction to the course structure and setting up your development environment.\"}, {\"url\": \"https://medium.com/@Shrishml/a-primer-on-ai-agents-with-langgraph-understand-all-about-it-0534345190dc\", \"content\": \"These tools and the agent itself serve as a demonstration of LangGraph's power in building intelligent agents. ... Task-driven Autonomous Agent Utilizing GPT-4, Pinecone, and LangChain for\"}]\n",
      "==================================\u001b[1m Ai Message \u001b[0m==================================\n",
      "\n",
      "Thank you for sharing your interest in building an autonomous agent with LangGraph. That's an ambitious and exciting project! Based on the additional information I've found, here are some insights and suggestions to help you get started:\n",
      "\n",
      "1. Upcoming Learning Resource:\n",
      "   There's a book titled \"Building Autonomous AI Agents with LangGraph\" by Paulo Dichone, scheduled for release in August 2024 by Packt Publishing. While it's not available yet, it might be worth keeping an eye on for future in-depth learning.\n",
      "\n",
      "2. Development Environment:\n",
      "   Before diving into building your agent, make sure you have a proper development environment set up. This typically includes installing necessary libraries like LangChain and LangGraph, as well as setting up any required API keys for language models you plan to use.\n",
      "\n",
      "3. Components of an Autonomous Agent:\n",
      "   When building your agent with LangGraph, consider including these components:\n",
      "   - Language Model: The core AI that powers your agent's reasoning and responses.\n",
      "   - Tools: Functions or APIs that your agent can use to interact with external data or perform actions.\n",
      "   - Memory: A system for storing and retrieving information across interactions.\n",
      "   - Planning: A module for determining the sequence of actions to achieve a goal.\n",
      "\n",
      "4. Integration with Other Technologies:\n",
      "   Consider integrating other technologies to enhance your agent's capabilities:\n",
      "   - GPT-4 or other advanced language models for core reasoning.\n",
      "   - Pinecone or similar vector databases for efficient information retrieval.\n",
      "   - External APIs or tools for specific functionalities (e.g., web searching, data analysis).\n",
      "\n",
      "5. Task-Driven Approach:\n",
      "   Design your agent to be task-driven. This means creating a system where the agent can understand a given task, break it down into steps, and execute those steps using its available tools and knowledge.\n",
      "\n",
      "6. Testing and Iteration:\n",
      "   As you build your agent, regularly test its performance on various tasks. Iterate on its design, adding new capabilities or refining existing ones based on its performance.\n",
      "\n",
      "7. Ethical Considerations:\n",
      "   As you're building an autonomous agent, consider the ethical implications. Ensure your agent behaves responsibly, respects user privacy, and has appropriate safeguards against misuse.\n",
      "\n",
      "To get started:\n",
      "1. Begin by thoroughly familiarizing yourself with LangChain and LangGraph documentation.\n",
      "2. Start with a simple agent that can perform basic tasks, then gradually increase its complexity.\n",
      "3. Join online communities or forums related to LangGraph and AI development to share ideas and get help when needed.\n",
      "\n",
      "Building an autonomous agent is a complex but rewarding project. It's a great way to dive deep into AI development and gain hands-on experience with cutting-edge technologies.\n",
      "\n",
      "Do you have any specific ideas for what kind of tasks you want your autonomous agent to perform? Or do you need any clarification on the points I've mentioned?\n"
     ]
    }
   ],
   "source": [
    "events = graph.stream(\n",
    "    {\n",
    "        \"messages\": [\n",
    "            (\"user\", \"Ya that's helpful. Maybe I'll build an autonomous agent with it!\")\n",
    "        ]\n",
    "    },\n",
    "    config,\n",
    "    stream_mode=\"values\",\n",
    ")\n",
    "for event in events:\n",
    "    if \"messages\" in event:\n",
    "        event[\"messages\"][-1].pretty_print()"
   ]
  },
  {
   "cell_type": "markdown",
   "id": "b2e48c77-65f3-4075-8030-ebf943a281f1",
   "metadata": {},
   "source": [
    "Now that we've had the agent take a couple steps, we can `replay` the full state history to see everything that occurred."
   ]
  },
  {
   "cell_type": "code",
   "execution_count": 63,
   "id": "6c0dbed5-210d-40ad-b002-0bc52ef28fac",
   "metadata": {},
   "outputs": [
    {
     "name": "stdout",
     "output_type": "stream",
     "text": [
      "Num Messages:  8 Next:  ()\n",
      "--------------------------------------------------------------------------------\n",
      "Num Messages:  7 Next:  ('chatbot',)\n",
      "--------------------------------------------------------------------------------\n",
      "Num Messages:  6 Next:  ('tools',)\n",
      "--------------------------------------------------------------------------------\n",
      "Num Messages:  5 Next:  ('chatbot',)\n",
      "--------------------------------------------------------------------------------\n",
      "Num Messages:  4 Next:  ('__start__',)\n",
      "--------------------------------------------------------------------------------\n",
      "Num Messages:  4 Next:  ()\n",
      "--------------------------------------------------------------------------------\n",
      "Num Messages:  3 Next:  ('chatbot',)\n",
      "--------------------------------------------------------------------------------\n",
      "Num Messages:  2 Next:  ('tools',)\n",
      "--------------------------------------------------------------------------------\n",
      "Num Messages:  1 Next:  ('chatbot',)\n",
      "--------------------------------------------------------------------------------\n",
      "Num Messages:  0 Next:  ('__start__',)\n",
      "--------------------------------------------------------------------------------\n"
     ]
    }
   ],
   "source": [
    "to_replay = None\n",
    "for state in graph.get_state_history(config):\n",
    "    print(\"Num Messages: \", len(state.values[\"messages\"]), \"Next: \", state.next)\n",
    "    print(\"-\" * 80)\n",
    "    if len(state.values[\"messages\"]) == 6:\n",
    "        # We are somewhat arbitrarily selecting a specific state based on the number of chat messages in the state.\n",
    "        to_replay = state"
   ]
  },
  {
   "cell_type": "markdown",
   "id": "b182019e-bae3-4616-ba1b-f845c0ab6636",
   "metadata": {},
   "source": [
    "**Notice** that checkpoints are saved for every step of the graph. This __spans invocations__ so you can rewind across a full thread's history. We've picked out `to_replay` as a state to resume from. This is the state after the `chatbot` node in the second graph invocation above.\n",
    "\n",
    "Resuming from this point should call the **action** node next."
   ]
  },
  {
   "cell_type": "code",
   "execution_count": 64,
   "id": "de8d5521-8d71-4093-a657-4920c790802f",
   "metadata": {},
   "outputs": [
    {
     "name": "stdout",
     "output_type": "stream",
     "text": [
      "('tools',)\n",
      "{'configurable': {'thread_id': '1', 'checkpoint_ns': '', 'checkpoint_id': '1ef8ef95-6db5-6547-8006-fa64c419014e'}}\n"
     ]
    }
   ],
   "source": [
    "print(to_replay.next)\n",
    "print(to_replay.config)"
   ]
  },
  {
   "cell_type": "markdown",
   "id": "7e8c61f5-3a4a-4cce-b81b-43fe1dcc971f",
   "metadata": {},
   "source": [
    "**Notice** that the checkpoint's config (`to_replay.config`) contains a `checkpoint_id` **timestamp**. Providing this `checkpoint_id` value tells LangGraph's checkpointer to **load** the state from that moment in time. Let's try it below:"
   ]
  },
  {
   "cell_type": "code",
   "execution_count": 65,
   "id": "85f17be3-eaf6-495e-a846-49436916b4ab",
   "metadata": {},
   "outputs": [
    {
     "name": "stdout",
     "output_type": "stream",
     "text": [
      "==================================\u001b[1m Ai Message \u001b[0m==================================\n",
      "\n",
      "[{'text': \"That's an exciting idea! Building an autonomous agent with LangGraph could be a great way to explore its capabilities and learn about advanced AI applications. Given your interest, let me provide some additional insights and suggestions for your project.\", 'type': 'text'}, {'id': 'toolu_0127PnnWqn6E3b6ewT6ob6dw', 'input': {'query': 'building autonomous agents with LangGraph'}, 'name': 'tavily_search_results_json', 'type': 'tool_use'}]\n",
      "Tool Calls:\n",
      "  tavily_search_results_json (toolu_0127PnnWqn6E3b6ewT6ob6dw)\n",
      " Call ID: toolu_0127PnnWqn6E3b6ewT6ob6dw\n",
      "  Args:\n",
      "    query: building autonomous agents with LangGraph\n",
      "=================================\u001b[1m Tool Message \u001b[0m=================================\n",
      "Name: tavily_search_results_json\n",
      "\n",
      "[{\"url\": \"https://www.oreilly.com/library/view/building-autonomous-ai/9781836643159/\", \"content\": \"Title: Building Autonomous AI Agents with LangGraph. Author (s): Paulo Dichone. Release date: August 2024. Publisher (s): Packt Publishing. ISBN: 9781836643159. Embark on a detailed journey into AI agent development with our comprehensive course. We begin with an introduction to the course structure and setting up your development environment.\"}, {\"url\": \"https://medium.com/@Shrishml/a-primer-on-ai-agents-with-langgraph-understand-all-about-it-0534345190dc\", \"content\": \"These tools and the agent itself serve as a demonstration of LangGraph's power in building intelligent agents. ... Task-driven Autonomous Agent Utilizing GPT-4, Pinecone, and LangChain for\"}]\n",
      "==================================\u001b[1m Ai Message \u001b[0m==================================\n",
      "\n",
      "Thank you for sharing your interest in building an autonomous agent with LangGraph! That's an ambitious and exciting project. Based on the additional information I've found, here are some insights and suggestions to help you get started:\n",
      "\n",
      "1. LangGraph's Suitability for Autonomous Agents:\n",
      "   LangGraph is indeed well-suited for building autonomous AI agents. Its ability to manage stateful, multi-actor systems makes it ideal for creating complex, intelligent agents that can perform various tasks autonomously.\n",
      "\n",
      "2. Upcoming Learning Resource:\n",
      "   There's a book titled \"Building Autonomous AI Agents with LangGraph\" by Paulo Dichone, scheduled for release in August 2024 by Packt Publishing. While it's not available yet, keeping an eye out for its release could provide you with a comprehensive guide specifically tailored to your goal.\n",
      "\n",
      "3. Components of an Autonomous Agent:\n",
      "   When building your agent, you'll likely need to incorporate several components:\n",
      "   - A language model (like GPT-4) for natural language understanding and generation\n",
      "   - A vector database (like Pinecone) for efficient information retrieval\n",
      "   - LangChain for general LLM integration\n",
      "   - LangGraph for managing the agent's state and coordinating multiple sub-agents or tasks\n",
      "\n",
      "4. Agent Capabilities:\n",
      "   With LangGraph, you can create agents that can:\n",
      "   - Maintain context over long interactions\n",
      "   - Coordinate multiple sub-tasks or sub-agents\n",
      "   - Make decisions based on current state and past interactions\n",
      "   - Interact with external tools and APIs\n",
      "\n",
      "5. Development Process:\n",
      "   To get started:\n",
      "   - Set up your development environment with LangChain and LangGraph\n",
      "   - Define the agent's primary objectives and required capabilities\n",
      "   - Design the agent's architecture, including any sub-agents or specialized components\n",
      "   - Implement the core logic using LangGraph's features for state management and coordination\n",
      "   - Integrate necessary external tools and APIs\n",
      "   - Test and iterate on your agent's performance\n",
      "\n",
      "6. Ethical Considerations:\n",
      "   As you're building an autonomous agent, it's crucial to consider ethical implications, such as ensuring the agent behaves responsibly, respects user privacy, and has appropriate safeguards against misuse.\n",
      "\n",
      "Building an autonomous agent is a complex but rewarding project. It will give you hands-on experience with cutting-edge AI technologies and help you understand the intricacies of creating intelligent, interactive systems.\n",
      "\n",
      "Do you have any specific ideas for what kind of autonomous agent you'd like to build? Or do you need any clarification on the process or technologies involved?\n"
     ]
    }
   ],
   "source": [
    "# The `checkpoint_id` in the `to_replay.config` corresponds to a state we've persisted to our checkpointer.\n",
    "for event in graph.stream(None, to_replay.config, stream_mode=\"values\"):\n",
    "    if \"messages\" in event:\n",
    "        event[\"messages\"][-1].pretty_print()"
   ]
  },
  {
   "cell_type": "markdown",
   "id": "c2501fed-2591-420d-98e0-4a3836fb99a8",
   "metadata": {},
   "source": [
    "Notice that the graph resumed execution from the `**action**` node. You can tell this is the case since the first value printed above is the response from our search engine tool.\n",
    "\n",
    "**Congratulations!** You've now used time-travel checkpoint traversal in LangGraph. Being able to rewind and explore alternative paths opens up a world of possibilities for debugging, experimentation, and interactive applications."
   ]
  },
  {
   "cell_type": "markdown",
   "id": "e584d57f-5aad-4507-815f-0b2e4b64b791",
   "metadata": {},
   "source": [
    "## Conclusion\n",
    "\n",
    "Congrats! You've completed the intro tutorial and built a chat bot in LangGraph that supports tool calling, persistent memory, human-in-the-loop interactivity, and even time-travel!\n",
    "\n",
    "The [LangGraph documentation](https://langchain-ai.github.io/langgraph/) is a great resource for diving deeper into the library's capabilities."
   ]
  }
 ],
 "metadata": {
  "kernelspec": {
   "display_name": "Python 3 (ipykernel)",
   "language": "python",
   "name": "python3"
  },
  "language_info": {
   "codemirror_mode": {
    "name": "ipython",
    "version": 3
   },
   "file_extension": ".py",
   "mimetype": "text/x-python",
   "name": "python",
   "nbconvert_exporter": "python",
   "pygments_lexer": "ipython3",
   "version": "3.11.9"
  }
 },
 "nbformat": 4,
 "nbformat_minor": 5
}
