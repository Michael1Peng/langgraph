{
 "cells": [
  {
   "cell_type": "markdown",
   "id": "05283db2-2f26-4800-8eda-78a4468a3d8f",
   "metadata": {},
   "source": [
    "## Part 7: Time Travel\n",
    "\n",
    "In a typical chat bot workflow, the user interacts with the bot 1 or more times to accomplish a task. In the previous sections, we saw how to add memory and a human-in-the-loop to be able to checkpoint our graph state and manually override the state to control future responses.\n",
    "\n",
    "But what if you want to let your user start from a previous response and \"branch off\" to explore a separate outcome? Or what if you want users to be able to \"rewind\" your assistant's work to fix some mistakes or try a different strategy (common in applications like autonomous software engineers)?\n",
    "\n",
    "You can create both of these experiences and more using LangGraph's built-in \"time travel\" functionality. \n",
    "\n",
    "In this section, you will \"rewind\" your graph by fetching a checkpoint using the graph's `get_state_history` method. You can then resume execution at this previous point in time.\n",
    "\n",
    "First, recall our chatbot graph. We don't need to make **any** changes from before:"
   ]
  },
  {
   "cell_type": "code",
   "execution_count": 1,
   "id": "bb8a02de-a21b-4ef6-a714-7d6e44435e3a",
   "metadata": {},
   "outputs": [],
   "source": [
    "from typing import Annotated, Literal\n",
    "\n",
    "from langchain_anthropic import ChatAnthropic\n",
    "from langchain_community.tools.tavily_search import TavilySearchResults\n",
    "from langchain_core.messages import AIMessage, ToolMessage\n",
    "\n",
    "# NOTE: you must use langchain-core >= 0.3 with Pydantic v2\n",
    "from pydantic import BaseModel\n",
    "from typing_extensions import TypedDict\n",
    "\n",
    "from langgraph.checkpoint.memory import MemorySaver\n",
    "from langgraph.graph import StateGraph, START, END\n",
    "from langgraph.graph.message import add_messages\n",
    "from langgraph.prebuilt import ToolNode, tools_condition\n",
    "\n",
    "\n",
    "class State(TypedDict):\n",
    "    messages: Annotated[list, add_messages]\n",
    "    # This flag is new\n",
    "    ask_human: bool\n",
    "\n",
    "\n",
    "class RequestAssistance(BaseModel):\n",
    "    \"\"\"Escalate the conversation to an expert. Use this if you are unable to assist directly or if the user requires support beyond your permissions.\n",
    "\n",
    "    To use this function, relay the user's 'request' so the expert can provide the right guidance.\n",
    "    \"\"\"\n",
    "\n",
    "    request: str\n",
    "\n",
    "\n",
    "tool = TavilySearchResults(max_results=2)\n",
    "tools = [tool]\n",
    "llm = ChatAnthropic(model=\"claude-3-5-sonnet-20240620\")\n",
    "# We can bind the llm to a tool definition, a pydantic model, or a json schema\n",
    "llm_with_tools = llm.bind_tools(tools + [RequestAssistance])\n",
    "\n",
    "\n",
    "def chatbot(state: State):\n",
    "    response = llm_with_tools.invoke(state[\"messages\"])\n",
    "    ask_human = False\n",
    "    if (\n",
    "        response.tool_calls\n",
    "        and response.tool_calls[0][\"name\"] == RequestAssistance.__name__\n",
    "    ):\n",
    "        ask_human = True\n",
    "    return {\"messages\": [response], \"ask_human\": ask_human}\n",
    "\n",
    "\n",
    "graph_builder = StateGraph(State)\n",
    "\n",
    "graph_builder.add_node(\"chatbot\", chatbot)\n",
    "graph_builder.add_node(\"tools\", ToolNode(tools=[tool]))\n",
    "\n",
    "\n",
    "def create_response(response: str, ai_message: AIMessage):\n",
    "    return ToolMessage(\n",
    "        content=response,\n",
    "        tool_call_id=ai_message.tool_calls[0][\"id\"],\n",
    "    )\n",
    "\n",
    "\n",
    "def human_node(state: State):\n",
    "    new_messages = []\n",
    "    if not isinstance(state[\"messages\"][-1], ToolMessage):\n",
    "        # Typically, the user will have updated the state during the interrupt.\n",
    "        # If they choose not to, we will include a placeholder ToolMessage to\n",
    "        # let the LLM continue.\n",
    "        new_messages.append(\n",
    "            create_response(\"No response from human.\", state[\"messages\"][-1])\n",
    "        )\n",
    "    return {\n",
    "        # Append the new messages\n",
    "        \"messages\": new_messages,\n",
    "        # Unset the flag\n",
    "        \"ask_human\": False,\n",
    "    }\n",
    "\n",
    "\n",
    "graph_builder.add_node(\"human\", human_node)\n",
    "\n",
    "\n",
    "def select_next_node(state: State):\n",
    "    if state[\"ask_human\"]:\n",
    "        return \"human\"\n",
    "    # Otherwise, we can route as before\n",
    "    return tools_condition(state)\n",
    "\n",
    "\n",
    "graph_builder.add_conditional_edges(\n",
    "    \"chatbot\",\n",
    "    select_next_node,\n",
    "    {\"human\": \"human\", \"tools\": \"tools\", END: END},\n",
    ")\n",
    "graph_builder.add_edge(\"tools\", \"chatbot\")\n",
    "graph_builder.add_edge(\"human\", \"chatbot\")\n",
    "graph_builder.add_edge(START, \"chatbot\")\n",
    "memory = MemorySaver()\n",
    "graph = graph_builder.compile(\n",
    "    checkpointer=memory,\n",
    "    interrupt_before=[\"human\"],\n",
    ")"
   ]
  },
  {
   "cell_type": "code",
   "execution_count": 2,
   "id": "a7debb4a-2a3a-40b9-a48c-7052ec2c2726",
   "metadata": {},
   "outputs": [
    {
     "data": {
      "image/jpeg": "[encoded data removed]",
      "text/plain": [
       "<IPython.core.display.Image object>"
      ]
     },
     "metadata": {},
     "output_type": "display_data"
    }
   ],
   "source": [
    "from IPython.display import Image, display\n",
    "\n",
    "try:\n",
    "    display(Image(graph.get_graph().draw_mermaid_png()))\n",
    "except Exception:\n",
    "    # This requires some extra dependencies and is optional\n",
    "    pass"
   ]
  },
  {
   "cell_type": "markdown",
   "id": "5414c482-215e-4cc0-9eef-4a8722d2f468",
   "metadata": {},
   "source": [
    "Let's have our graph take a couple steps. Every step will be checkpointed in its state history:"
   ]
  },
  {
   "cell_type": "code",
   "execution_count": 3,
   "id": "69071b02-c011-4b7f-90b1-8e89e032322d",
   "metadata": {},
   "outputs": [
    {
     "name": "stdout",
     "output_type": "stream",
     "text": [
      "================================\u001b[1m Human Message \u001b[0m=================================\n",
      "\n",
      "I'm learning LangGraph. Could you do some research on it for me?\n",
      "==================================\u001b[1m Ai Message \u001b[0m==================================\n",
      "\n",
      "[{'text': \"Certainly! I'd be happy to help you research LangGraph. To get the most up-to-date and comprehensive information, I'll use the Tavily search function to gather some details for you. Let me do that search now.\", 'type': 'text'}, {'id': 'toolu_012Mnb9EiZERoQmF6UuJTtMY', 'input': {'query': 'LangGraph framework for language models explanation and features'}, 'name': 'tavily_search_results_json', 'type': 'tool_use'}]\n",
      "Tool Calls:\n",
      "  tavily_search_results_json (toolu_012Mnb9EiZERoQmF6UuJTtMY)\n",
      " Call ID: toolu_012Mnb9EiZERoQmF6UuJTtMY\n",
      "  Args:\n",
      "    query: LangGraph framework for language models explanation and features\n",
      "=================================\u001b[1m Tool Message \u001b[0m=================================\n",
      "Name: tavily_search_results_json\n",
      "\n",
      "[{\"url\": \"https://medium.com/@cplog/introduction-to-langgraph-a-beginners-guide-14f9be027141\", \"content\": \"Feb 15, 2024. --. 4. LangGraph is a powerful tool for building stateful, multi-actor applications with Large Language Models (LLMs). It extends the LangChain library, allowing you to coordinate\"}, {\"url\": \"https://towardsdatascience.com/langgraph-intuitively-and-exhaustively-explained-435ef706f0f9\", \"content\": \"LangGraph — Intuitively and Exhaustively Explained | by Daniel Warfield | Sep, 2024 | Towards Data Science LangGraph — Intuitively and Exhaustively Explained In this article we’ll explore “LangGraph”, a cutting-edge tool for making LLM agents that are actually useful. We’ll then discuss how LangGraph can be used to address these shortcomings to make more useful and maintainable agents. We’ll use this state graph to build an agent which is capable of performing a complex task which requires the agent to deal with natural conversation, hard rules, and application logic. By the end of this article you’ll understand why LangGraph exists, why it’s important, and how to use it within your own projects.\"}]\n",
      "==================================\u001b[1m Ai Message \u001b[0m==================================\n",
      "\n",
      "Thank you for your interest in learning about LangGraph. Based on the search results, I can provide you with some information about this framework. LangGraph is a powerful tool designed for building stateful, multi-actor applications with Large Language Models (LLMs). Here are some key points about LangGraph:\n",
      "\n",
      "1. Extension of LangChain: LangGraph extends the capabilities of the LangChain library, which is already popular for working with LLMs.\n",
      "\n",
      "2. Purpose: It's specifically created to coordinate complex interactions and workflows involving LLMs.\n",
      "\n",
      "3. Stateful Applications: LangGraph allows developers to create applications that can maintain state, which is crucial for more complex, multi-step interactions.\n",
      "\n",
      "4. Multi-Actor Systems: It supports the development of systems where multiple AI \"actors\" or components can interact, each potentially having its own role or specialization.\n",
      "\n",
      "5. Addressing LLM Shortcomings: LangGraph is designed to address some of the limitations of traditional LLM agents, making them more useful and maintainable.\n",
      "\n",
      "6. Complex Task Handling: The framework enables the creation of agents capable of performing complex tasks that involve natural conversation, hard rules, and application logic.\n",
      "\n",
      "7. State Graphs: LangGraph uses state graphs to manage the flow and logic of interactions, allowing for more structured and controllable AI behaviors.\n",
      "\n",
      "8. Improved Agent Usability: By using LangGraph, developers can create LLM agents that are more practical and applicable to real-world scenarios.\n",
      "\n",
      "9. Integration with Projects: It's designed to be integrated into existing projects, enhancing their capabilities with more sophisticated LLM-powered features.\n",
      "\n",
      "LangGraph seems to be a relatively new tool in the field of AI and language models, with articles discussing it appearing in early 2024. It's positioned as an advanced framework for developers looking to create more complex and capable AI applications using large language models.\n",
      "\n",
      "If you're learning LangGraph, it would be beneficial to:\n",
      "1. Familiarize yourself with LangChain first, as LangGraph builds upon it.\n",
      "2. Study the concept of state management in AI applications.\n",
      "3. Explore examples of multi-actor AI systems.\n",
      "4. Practice creating state graphs for different types of interactions.\n",
      "5. Experiment with combining natural language processing with rule-based logic in your applications.\n",
      "\n",
      "Is there any specific aspect of LangGraph you'd like to know more about, or do you have any particular use case in mind for which you're considering using LangGraph?\n"
     ]
    }
   ],
   "source": [
    "config = {\"configurable\": {\"thread_id\": \"1\"}}\n",
    "events = graph.stream(\n",
    "    {\n",
    "        \"messages\": [\n",
    "            (\"user\", \"I'm learning LangGraph. Could you do some research on it for me?\")\n",
    "        ]\n",
    "    },\n",
    "    config,\n",
    "    stream_mode=\"values\",\n",
    ")\n",
    "for event in events:\n",
    "    if \"messages\" in event:\n",
    "        event[\"messages\"][-1].pretty_print()"
   ]
  },
  {
   "cell_type": "code",
   "execution_count": 4,
   "id": "acbec099-e5d2-497f-929e-c548d7bcbf77",
   "metadata": {},
   "outputs": [
    {
     "name": "stdout",
     "output_type": "stream",
     "text": [
      "================================\u001b[1m Human Message \u001b[0m=================================\n",
      "\n",
      "Ya that's helpful. Maybe I'll build an autonomous agent with it!\n",
      "==================================\u001b[1m Ai Message \u001b[0m==================================\n",
      "\n",
      "That's an exciting idea! Building an autonomous agent with LangGraph is indeed a great way to explore its capabilities and put your learning into practice. LangGraph's features make it well-suited for creating sophisticated autonomous agents. Let me offer some thoughts and suggestions on this:\n",
      "\n",
      "1. Agent Design:\n",
      "   - Consider what kind of autonomous agent you want to build. It could be a task-completion agent, a conversational assistant, or even a multi-agent system where different agents collaborate.\n",
      "   - Think about the specific tasks or domain your agent will operate in. This will help you define the necessary states and transitions in your LangGraph implementation.\n",
      "\n",
      "2. State Management:\n",
      "   - One of LangGraph's key features is its ability to manage state. Design your agent's various states carefully. These could include states like \"gathering information\", \"processing\", \"decision making\", \"executing action\", etc.\n",
      "   - Use LangGraph's state graph functionality to clearly define how your agent transitions between these states based on different inputs or conditions.\n",
      "\n",
      "3. Multi-Step Reasoning:\n",
      "   - Leverage LangGraph's ability to handle complex, multi-step tasks. Your autonomous agent could break down larger problems into smaller, manageable steps.\n",
      "   - Implement checks and balances at each step to ensure the agent is on the right track.\n",
      "\n",
      "4. Integration with External Tools:\n",
      "   - Consider integrating your agent with external APIs or tools. LangGraph, building on LangChain, should allow for such integrations, enabling your agent to interact with the outside world or access specific data sources.\n",
      "\n",
      "5. Conversational Abilities:\n",
      "   - If your agent needs to interact with users, use LangGraph's natural language processing capabilities to create more nuanced and context-aware conversations.\n",
      "\n",
      "6. Error Handling and Robustness:\n",
      "   - Design your agent to handle unexpected inputs or situations gracefully. LangGraph's state management can be particularly useful here, allowing you to define fallback states or error-handling routines.\n",
      "\n",
      "7. Learning and Improvement:\n",
      "   - Consider implementing a feedback loop where your agent can learn from its interactions and improve over time.\n",
      "\n",
      "8. Ethical Considerations:\n",
      "   - As you're building an autonomous agent, it's important to consider ethical implications. Implement safeguards to ensure your agent behaves responsibly and doesn't make harmful decisions.\n",
      "\n",
      "9. Testing and Iteration:\n",
      "   - Start with a simple prototype and gradually increase complexity. Test your agent thoroughly in various scenarios to ensure it behaves as expected.\n",
      "\n",
      "10. Documentation:\n",
      "    - As you build your agent, document your process, the structure of your state graph, and any key decisions. This will be invaluable as your project grows in complexity.\n",
      "\n",
      "Remember, building an effective autonomous agent is an iterative process. Start simple, test frequently, and gradually add more sophisticated behaviors as you become more comfortable with LangGraph.\n",
      "\n",
      "Do you have a specific type of autonomous agent in mind, or a particular problem you're looking to solve with it? I'd be happy to provide more targeted advice if you have a specific direction in mind!\n"
     ]
    }
   ],
   "source": [
    "events = graph.stream(\n",
    "    {\n",
    "        \"messages\": [\n",
    "            (\"user\", \"Ya that's helpful. Maybe I'll build an autonomous agent with it!\")\n",
    "        ]\n",
    "    },\n",
    "    config,\n",
    "    stream_mode=\"values\",\n",
    ")\n",
    "for event in events:\n",
    "    if \"messages\" in event:\n",
    "        event[\"messages\"][-1].pretty_print()"
   ]
  },
  {
   "cell_type": "markdown",
   "id": "b2e48c77-65f3-4075-8030-ebf943a281f1",
   "metadata": {},
   "source": [
    "Now that we've had the agent take a couple steps, we can `replay` the full state history to see everything that occurred."
   ]
  },
  {
   "cell_type": "code",
   "execution_count": 5,
   "id": "6c0dbed5-210d-40ad-b002-0bc52ef28fac",
   "metadata": {},
   "outputs": [
    {
     "name": "stdout",
     "output_type": "stream",
     "text": [
      "Num Messages:  6 Next:  ()\n",
      "--------------------------------------------------------------------------------\n",
      "Num Messages:  5 Next:  ('chatbot',)\n",
      "--------------------------------------------------------------------------------\n",
      "Num Messages:  4 Next:  ('__start__',)\n",
      "--------------------------------------------------------------------------------\n",
      "Num Messages:  4 Next:  ()\n",
      "--------------------------------------------------------------------------------\n",
      "Num Messages:  3 Next:  ('chatbot',)\n",
      "--------------------------------------------------------------------------------\n",
      "Num Messages:  2 Next:  ('tools',)\n",
      "--------------------------------------------------------------------------------\n",
      "Num Messages:  1 Next:  ('chatbot',)\n",
      "--------------------------------------------------------------------------------\n",
      "Num Messages:  0 Next:  ('__start__',)\n",
      "--------------------------------------------------------------------------------\n"
     ]
    }
   ],
   "source": [
    "to_replay = None\n",
    "for state in graph.get_state_history(config):\n",
    "    print(\"Num Messages: \", len(state.values[\"messages\"]), \"Next: \", state.next)\n",
    "    print(\"-\" * 80)\n",
    "    if len(state.values[\"messages\"]) == 6:\n",
    "        # We are somewhat arbitrarily selecting a specific state based on the number of chat messages in the state.\n",
    "        to_replay = state"
   ]
  },
  {
   "cell_type": "markdown",
   "id": "b182019e-bae3-4616-ba1b-f845c0ab6636",
   "metadata": {},
   "source": [
    "**Notice** that checkpoints are saved for every step of the graph. This __spans invocations__ so you can rewind across a full thread's history. We've picked out `to_replay` as a state to resume from. This is the state after the `chatbot` node in the second graph invocation above.\n",
    "\n",
    "Resuming from this point should call the **action** node next."
   ]
  },
  {
   "cell_type": "code",
   "execution_count": 6,
   "id": "de8d5521-8d71-4093-a657-4920c790802f",
   "metadata": {},
   "outputs": [
    {
     "name": "stdout",
     "output_type": "stream",
     "text": [
      "()\n",
      "{'configurable': {'thread_id': '1', 'checkpoint_ns': '', 'checkpoint_id': '1ef9031f-2e96-6a01-8006-3b044e5beea0'}}\n"
     ]
    }
   ],
   "source": [
    "print(to_replay.next)\n",
    "print(to_replay.config)"
   ]
  },
  {
   "cell_type": "markdown",
   "id": "7e8c61f5-3a4a-4cce-b81b-43fe1dcc971f",
   "metadata": {},
   "source": [
    "**Notice** that the checkpoint's config (`to_replay.config`) contains a `checkpoint_id` **timestamp**. Providing this `checkpoint_id` value tells LangGraph's checkpointer to **load** the state from that moment in time. Let's try it below:"
   ]
  },
  {
   "cell_type": "code",
   "execution_count": 7,
   "id": "85f17be3-eaf6-495e-a846-49436916b4ab",
   "metadata": {},
   "outputs": [
    {
     "name": "stdout",
     "output_type": "stream",
     "text": [
      "==================================\u001b[1m Ai Message \u001b[0m==================================\n",
      "\n",
      "That's an exciting idea! Building an autonomous agent with LangGraph is indeed a great way to explore its capabilities and put your learning into practice. LangGraph's features make it well-suited for creating sophisticated autonomous agents. Let me offer some thoughts and suggestions on this:\n",
      "\n",
      "1. Agent Design:\n",
      "   - Consider what kind of autonomous agent you want to build. It could be a task-completion agent, a conversational assistant, or even a multi-agent system where different agents collaborate.\n",
      "   - Think about the specific tasks or domain your agent will operate in. This will help you define the necessary states and transitions in your LangGraph implementation.\n",
      "\n",
      "2. State Management:\n",
      "   - One of LangGraph's key features is its ability to manage state. Design your agent's various states carefully. These could include states like \"gathering information\", \"processing\", \"decision making\", \"executing action\", etc.\n",
      "   - Use LangGraph's state graph functionality to clearly define how your agent transitions between these states based on different inputs or conditions.\n",
      "\n",
      "3. Multi-Step Reasoning:\n",
      "   - Leverage LangGraph's ability to handle complex, multi-step tasks. Your autonomous agent could break down larger problems into smaller, manageable steps.\n",
      "   - Implement checks and balances at each step to ensure the agent is on the right track.\n",
      "\n",
      "4. Integration with External Tools:\n",
      "   - Consider integrating your agent with external APIs or tools. LangGraph, building on LangChain, should allow for such integrations, enabling your agent to interact with the outside world or access specific data sources.\n",
      "\n",
      "5. Conversational Abilities:\n",
      "   - If your agent needs to interact with users, use LangGraph's natural language processing capabilities to create more nuanced and context-aware conversations.\n",
      "\n",
      "6. Error Handling and Robustness:\n",
      "   - Design your agent to handle unexpected inputs or situations gracefully. LangGraph's state management can be particularly useful here, allowing you to define fallback states or error-handling routines.\n",
      "\n",
      "7. Learning and Improvement:\n",
      "   - Consider implementing a feedback loop where your agent can learn from its interactions and improve over time.\n",
      "\n",
      "8. Ethical Considerations:\n",
      "   - As you're building an autonomous agent, it's important to consider ethical implications. Implement safeguards to ensure your agent behaves responsibly and doesn't make harmful decisions.\n",
      "\n",
      "9. Testing and Iteration:\n",
      "   - Start with a simple prototype and gradually increase complexity. Test your agent thoroughly in various scenarios to ensure it behaves as expected.\n",
      "\n",
      "10. Documentation:\n",
      "    - As you build your agent, document your process, the structure of your state graph, and any key decisions. This will be invaluable as your project grows in complexity.\n",
      "\n",
      "Remember, building an effective autonomous agent is an iterative process. Start simple, test frequently, and gradually add more sophisticated behaviors as you become more comfortable with LangGraph.\n",
      "\n",
      "Do you have a specific type of autonomous agent in mind, or a particular problem you're looking to solve with it? I'd be happy to provide more targeted advice if you have a specific direction in mind!\n"
     ]
    }
   ],
   "source": [
    "# The `checkpoint_id` in the `to_replay.config` corresponds to a state we've persisted to our checkpointer.\n",
    "for event in graph.stream(None, to_replay.config, stream_mode=\"values\"):\n",
    "    if \"messages\" in event:\n",
    "        event[\"messages\"][-1].pretty_print()"
   ]
  },
  {
   "cell_type": "markdown",
   "id": "c2501fed-2591-420d-98e0-4a3836fb99a8",
   "metadata": {},
   "source": [
    "Notice that the graph resumed execution from the `**action**` node. You can tell this is the case since the first value printed above is the response from our search engine tool.\n",
    "\n",
    "**Congratulations!** You've now used time-travel checkpoint traversal in LangGraph. Being able to rewind and explore alternative paths opens up a world of possibilities for debugging, experimentation, and interactive applications."
   ]
  },
  {
   "cell_type": "markdown",
   "id": "e584d57f-5aad-4507-815f-0b2e4b64b791",
   "metadata": {},
   "source": [
    "## Conclusion\n",
    "\n",
    "Congrats! You've completed the intro tutorial and built a chat bot in LangGraph that supports tool calling, persistent memory, human-in-the-loop interactivity, and even time-travel!\n",
    "\n",
    "The [LangGraph documentation](https://langchain-ai.github.io/langgraph/) is a great resource for diving deeper into the library's capabilities."
   ]
  }
 ],
 "metadata": {
  "kernelspec": {
   "display_name": "Python 3 (ipykernel)",
   "language": "python",
   "name": "python3"
  },
  "language_info": {
   "codemirror_mode": {
    "name": "ipython",
    "version": 3
   },
   "file_extension": ".py",
   "mimetype": "text/x-python",
   "name": "python",
   "nbconvert_exporter": "python",
   "pygments_lexer": "ipython3",
   "version": "3.11.9"
  }
 },
 "nbformat": 4,
 "nbformat_minor": 5
}
